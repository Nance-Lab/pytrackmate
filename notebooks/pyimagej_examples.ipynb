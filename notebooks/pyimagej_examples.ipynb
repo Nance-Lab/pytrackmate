{
 "cells": [
  {
   "cell_type": "code",
   "execution_count": 84,
   "metadata": {},
   "outputs": [],
   "source": [
    "import imagej\n",
    "import os\n",
    "import scyjava as sj\n",
    "from scyjava import jimport\n",
    "import random\n",
    "import sys\n",
    "sj.config.add_options('-Xmx6g')\n",
    "\n",
    "os.environ[\"JAVA_HOME\"] = \"/Users/nelsschimek/mambaforge/envs/i2k-2022-pyimagej/\""
   ]
  },
  {
   "cell_type": "code",
   "execution_count": 2,
   "metadata": {},
   "outputs": [
    {
     "name": "stdout",
     "output_type": "stream",
     "text": [
      "ImageJ version: 2.9.0/1.53t\n"
     ]
    }
   ],
   "source": [
    "# initialize ImageJ\n",
    "ij = imagej.init('/Applications/Fiji.app/')\n",
    "print(f\"ImageJ version: {ij.getVersion()}\")"
   ]
  },
  {
   "cell_type": "code",
   "execution_count": 3,
   "metadata": {},
   "outputs": [],
   "source": [
    "Runtime = jimport('java.lang.Runtime')"
   ]
  },
  {
   "cell_type": "code",
   "execution_count": 4,
   "metadata": {},
   "outputs": [
    {
     "name": "stdout",
     "output_type": "stream",
     "text": [
      "5461  MB available to java\n"
     ]
    }
   ],
   "source": [
    "print(Runtime.getRuntime().maxMemory() // (2**20), \" MB available to java\")"
   ]
  },
  {
   "cell_type": "code",
   "execution_count": 63,
   "metadata": {},
   "outputs": [],
   "source": [
    "image_path = \"/Users/nelsschimek/Documents/nancelab/diff_classifier/notebooks/development/MPT_Data/P10F_NT_10DIV_40nm_slice_2_midbrain_vid_2_0_0.tif\"\n",
    "#image_path = \"/Users/nelsschimek/Documents/nancelab/Data/QD_BEV_tifs/60X_QD-BEV_Video1.tif\"\n",
    "image = ij.io().open(image_path)"
   ]
  },
  {
   "cell_type": "code",
   "execution_count": 64,
   "metadata": {},
   "outputs": [
    {
     "data": {
      "text/plain": [
       "<java object 'net.imagej.DefaultDataset'>"
      ]
     },
     "execution_count": 64,
     "metadata": {},
     "output_type": "execute_result"
    }
   ],
   "source": [
    "image"
   ]
  },
  {
   "cell_type": "code",
   "execution_count": 65,
   "metadata": {},
   "outputs": [
    {
     "name": "stdout",
     "output_type": "stream",
     "text": [
      " name: P10F_NT_10DIV_40nm_slice_2_midbrain_vid_2_0_0.tif\n",
      " type: <java class 'net.imagej.DefaultDataset'>\n",
      "dtype: <java class 'net.imglib2.type.numeric.integer.UnsignedShortType'>\n",
      "shape: (512, 512, 651)\n",
      " dims: ('X', 'Y', 'Unknown')\n"
     ]
    }
   ],
   "source": [
    "def dump_info(image):\n",
    "    \"\"\"A handy function to print details of an image object.\"\"\"\n",
    "    name = image.name if hasattr(image, 'name') else None # xarray\n",
    "    if name is None and hasattr(image, 'getName'): name = image.getName() # Dataset\n",
    "    if name is None and hasattr(image, 'getTitle'): name = image.getTitle() # ImagePlus\n",
    "    print(f\" name: {name or 'N/A'}\")\n",
    "    print(f\" type: {type(image)}\")\n",
    "    print(f\"dtype: {image.dtype if hasattr(image, 'dtype') else 'N/A'}\")\n",
    "    print(f\"shape: {image.shape}\")\n",
    "    print(f\" dims: {image.dims if hasattr(image, 'dims') else 'N/A'}\")\n",
    "\n",
    "if not 'image' in locals(): print(\"I cannot find any variable called embryo. Did you write `embryo = ...` above?\")\n",
    "elif str(type(image)) != \"<java class 'net.imagej.DefaultDataset'>\": print(\"The embryo variable does not contain an ImageJ2 Dataset. Did you use the `ij.io().open` function?\")\n",
    "else: dump_info(image)"
   ]
  },
  {
   "cell_type": "code",
   "execution_count": 8,
   "metadata": {},
   "outputs": [
    {
     "data": {
      "text/plain": [
       "{}"
      ]
     },
     "execution_count": 8,
     "metadata": {},
     "output_type": "execute_result"
    }
   ],
   "source": [
    "image.__dict__"
   ]
  },
  {
   "cell_type": "code",
   "execution_count": 75,
   "metadata": {},
   "outputs": [],
   "source": [
    "Model = sj.jimport('fiji.plugin.trackmate.Model')\n",
    "Settings = sj.jimport('fiji.plugin.trackmate.Settings')\n",
    "TrackMate = sj.jimport('fiji.plugin.trackmate.TrackMate')\n",
    "FeatureFilter = sj.jimport('fiji.plugin.trackmate.features.FeatureFilter')\n",
    "LAPUtils =  sj.jimport('fiji.plugin.trackmate.tracking.jaqaman.LAPUtils')\n",
    "SelectionModel = sj.jimport('fiji.plugin.trackmate.SelectionModel')\n",
    "Logger = sj.jimport('fiji.plugin.trackmate.Logger')\n",
    "DisplaySettingsIO = sj.jimport('fiji.plugin.trackmate.gui.displaysettings.DisplaySettingsIO')\n",
    "HyperStackDisplayer = sj.jimport('fiji.plugin.trackmate.visualization.hyperstack.HyperStackDisplayer')\n",
    "\n",
    "DogDetectorFactory = sj.jimport('fiji.plugin.trackmate.detection.DogDetectorFactory')\n",
    "SparseLAPTrackerFactory = sj.jimport('fiji.plugin.trackmate.tracking.jaqaman.SparseLAPTrackerFactory')"
   ]
  },
  {
   "cell_type": "code",
   "execution_count": null,
   "metadata": {},
   "outputs": [],
   "source": []
  },
  {
   "cell_type": "code",
   "execution_count": null,
   "metadata": {},
   "outputs": [],
   "source": []
  },
  {
   "cell_type": "code",
   "execution_count": 99,
   "metadata": {},
   "outputs": [],
   "source": [
    "model = Model()"
   ]
  },
  {
   "cell_type": "code",
   "execution_count": 100,
   "metadata": {},
   "outputs": [],
   "source": [
    "model.setLogger(Logger.IJ_LOGGER)"
   ]
  },
  {
   "cell_type": "code",
   "execution_count": 15,
   "metadata": {},
   "outputs": [],
   "source": [
    "\n",
    "fake_im = ij.io().open('https://fiji.sc/samples/FakeTracks.tif')\n"
   ]
  },
  {
   "cell_type": "code",
   "execution_count": 101,
   "metadata": {},
   "outputs": [],
   "source": [
    "imp = ij.py.to_imageplus(image)"
   ]
  },
  {
   "cell_type": "code",
   "execution_count": 102,
   "metadata": {},
   "outputs": [
    {
     "name": "stdout",
     "output_type": "stream",
     "text": [
      "512\n",
      "512\n",
      "651\n",
      "1\n",
      "1\n"
     ]
    }
   ],
   "source": [
    "original_dims = imp.getDimensions()\n",
    "for val in original_dims:\n",
    "    print(val)"
   ]
  },
  {
   "cell_type": "code",
   "execution_count": 103,
   "metadata": {},
   "outputs": [
    {
     "name": "stdout",
     "output_type": "stream",
     "text": [
      "('X', 'Y', 'C')\n",
      " name: P10F_NT_10DIV_40nm_slice_2_midbrain_vid_2_0_0.tif\n",
      " type: <java class 'ij.ImagePlus'>\n",
      "dtype: N/A\n",
      "shape: (512, 512, 651)\n",
      " dims: ('X', 'Y', 'C')\n"
     ]
    }
   ],
   "source": [
    "dims = imp.getDimensions() # default order: XYCZT\n",
    "print(imp.dims)\n",
    "dump_info(imp)"
   ]
  },
  {
   "cell_type": "code",
   "execution_count": 104,
   "metadata": {},
   "outputs": [
    {
     "name": "stdout",
     "output_type": "stream",
     "text": [
      "need to change order\n",
      "('X', 'Y', 'T')\n"
     ]
    }
   ],
   "source": [
    "# Swap Z and T dimensions if T=1\n",
    "\n",
    "if (dims[4] == 1):\n",
    "\tprint('need to change order')\n",
    "\timp.setDimensions(dims[4], dims[3], dims[2])\n",
    "print(imp.dims)\n",
    "\n",
    "# Setup settings for TrackMate"
   ]
  },
  {
   "cell_type": "code",
   "execution_count": 105,
   "metadata": {},
   "outputs": [
    {
     "name": "stdout",
     "output_type": "stream",
     "text": [
      "512\n",
      "512\n",
      "1\n",
      "1\n",
      "651\n"
     ]
    }
   ],
   "source": [
    "for val in imp.getDimensions():\n",
    "    print(val)"
   ]
  },
  {
   "cell_type": "code",
   "execution_count": 106,
   "metadata": {},
   "outputs": [
    {
     "name": "stdout",
     "output_type": "stream",
     "text": [
      "512\n",
      "512\n",
      "651\n",
      "1\n",
      "1\n"
     ]
    }
   ],
   "source": [
    "for val in original_dims:\n",
    "    print(val)"
   ]
  },
  {
   "cell_type": "code",
   "execution_count": 107,
   "metadata": {},
   "outputs": [
    {
     "name": "stdout",
     "output_type": "stream",
     "text": [
      " name: P10F_NT_10DIV_40nm_slice_2_midbrain_vid_2_0_0.tif\n",
      " type: <java class 'ij.ImagePlus'>\n",
      "dtype: N/A\n",
      "shape: (512, 512, 651)\n",
      " dims: ('X', 'Y', 'T')\n"
     ]
    }
   ],
   "source": [
    "dump_info(imp)"
   ]
  },
  {
   "cell_type": "code",
   "execution_count": 108,
   "metadata": {},
   "outputs": [
    {
     "name": "stdout",
     "output_type": "stream",
     "text": [
      "512\n",
      "512\n",
      "651\n",
      "1\n",
      "1\n"
     ]
    }
   ],
   "source": [
    "for i in range(5):\n",
    "    print(dims[i])"
   ]
  },
  {
   "cell_type": "code",
   "execution_count": 109,
   "metadata": {},
   "outputs": [
    {
     "data": {
      "text/plain": [
       "('X', 'Y', 'T')"
      ]
     },
     "execution_count": 109,
     "metadata": {},
     "output_type": "execute_result"
    }
   ],
   "source": [
    "imp.dims"
   ]
  },
  {
   "cell_type": "code",
   "execution_count": 110,
   "metadata": {},
   "outputs": [],
   "source": [
    "settings = Settings(imp)"
   ]
  },
  {
   "cell_type": "code",
   "execution_count": 111,
   "metadata": {},
   "outputs": [],
   "source": [
    "# Configure detector\n",
    "settings.detectorFactory = DogDetectorFactory()\n",
    "settings.detectorSettings = {\n",
    "    'DO_SUBPIXEL_LOCALIZATION' : False,\n",
    "    'RADIUS' : 6.0,\n",
    "    'TARGET_CHANNEL': ij.py.to_java(1),\n",
    "    'DO_MEDIAN_FILTERING': True,\n",
    "    'THRESHOLD': 0.0\n",
    "}  "
   ]
  },
  {
   "cell_type": "code",
   "execution_count": 112,
   "metadata": {},
   "outputs": [],
   "source": [
    "# TMUtils = sj.jimport('fiji.plugin.trackmate.util.TMUtils') #.otsuThreshold(featureValues)\n",
    "\n",
    "# trackFeatureValues = model.getFeatureModel.getTrackFeatureValues()\n",
    "# featureValues = trackFeatureValues.get('NUMBER_SPOTS')\n",
    "# optimalNumberSpots = TMUtils.otsuThreshold(featureValues)"
   ]
  },
  {
   "cell_type": "code",
   "execution_count": 113,
   "metadata": {},
   "outputs": [],
   "source": [
    "# filter1 = FeatureFilter('QUALITY', 3.26, True) #Needs to be (str, str, bool)\n",
    "# settings.addSpotFilter(filter1)"
   ]
  },
  {
   "cell_type": "code",
   "execution_count": 114,
   "metadata": {},
   "outputs": [],
   "source": [
    "# Configure tracker\n",
    "settings.trackerFactory = SparseLAPTrackerFactory()\n",
    "settings.trackerSettings = LAPUtils.getDefaultSegmentSettingsMap()\n",
    "settings.trackerSettings['LINKING_MAX_DISTANCE'] = 15.0\n",
    "settings.trackerSettings['GAP_CLOSING_MAX_DISTANCE'] = 20.0\n",
    "settings.trackerSettings['MAX_FRAME_GAP'] = ij.py.to_java(6)"
   ]
  },
  {
   "cell_type": "code",
   "execution_count": 115,
   "metadata": {},
   "outputs": [],
   "source": [
    "trackmate = TrackMate(model, settings)\n",
    "#trackmate.execDetection()"
   ]
  },
  {
   "cell_type": "code",
   "execution_count": 116,
   "metadata": {},
   "outputs": [
    {
     "name": "stdout",
     "output_type": "stream",
     "text": [
      "Starting detection process using 8 threads.\n",
      "\n",
      "Detection processes 8 frames simultaneously and allocates 1 thread per frame.\n",
      "\n"
     ]
    },
    {
     "name": "stderr",
     "output_type": "stream",
     "text": [
      "[java.lang.Enum.toString] Starting detection process using 8 threads.\n",
      "[java.lang.Enum.toString] \n",
      "[java.lang.Enum.toString] Detection processes 8 frames simultaneously and allocates 1 thread per frame.\n",
      "[java.lang.Enum.toString] \n"
     ]
    },
    {
     "name": "stdout",
     "output_type": "stream",
     "text": [
      "Found 793453 spots.\n",
      "\n",
      "Starting initial filtering process.\n",
      "\n"
     ]
    },
    {
     "name": "stderr",
     "output_type": "stream",
     "text": [
      "[java.lang.Enum.toString] Found 793453 spots.\n",
      "[java.lang.Enum.toString] \n",
      "[java.lang.Enum.toString] Starting initial filtering process.\n",
      "[java.lang.Enum.toString] \n"
     ]
    },
    {
     "name": "stdout",
     "output_type": "stream",
     "text": [
      "Computing spot features over 8 frames simultaneously and allocating 1 thread per frame.\n",
      "\n",
      "Computation done in 218 ms.\n",
      "\n",
      "Starting spot filtering process.\n",
      "\n"
     ]
    },
    {
     "name": "stderr",
     "output_type": "stream",
     "text": [
      "[java.lang.Enum.toString] Computing spot features over 8 frames simultaneously and allocating 1 thread per frame.\n",
      "[java.lang.Enum.toString] \n",
      "[java.lang.Enum.toString] Computation done in 218 ms.\n",
      "[java.lang.Enum.toString] \n",
      "[java.lang.Enum.toString] Starting spot filtering process.\n",
      "[java.lang.Enum.toString] \n"
     ]
    },
    {
     "name": "stdout",
     "output_type": "stream",
     "text": [
      "Starting tracking process.\n",
      "\n"
     ]
    },
    {
     "name": "stderr",
     "output_type": "stream",
     "text": [
      "[java.lang.Enum.toString] Starting tracking process.\n",
      "[java.lang.Enum.toString] \n"
     ]
    }
   ],
   "source": [
    "ok = trackmate.checkInput()\n",
    "if not ok:\n",
    "    sys.exit(str(trackmate.getErrorMessage()))\n",
    "\n",
    "ok = trackmate.process()\n",
    "if not ok:\n",
    "    sys.exit(str(trackmate.getErrorMessage()))"
   ]
  },
  {
   "cell_type": "code",
   "execution_count": null,
   "metadata": {},
   "outputs": [
    {
     "name": "stdout",
     "output_type": "stream",
     "text": [
      "Found 87 tracks.\n"
     ]
    },
    {
     "name": "stderr",
     "output_type": "stream",
     "text": [
      "[java.lang.Enum.toString] Found 87 tracks.[java.lang.Enum.toString] \n"
     ]
    }
   ],
   "source": [
    "model.getLogger().log('Found ' + str(model.getTrackModel().nTracks(True)) + ' tracks.')\n"
   ]
  },
  {
   "cell_type": "code",
   "execution_count": 80,
   "metadata": {},
   "outputs": [],
   "source": [
    "# A selection.\n",
    "sm = SelectionModel( model )\n",
    "\n",
    "# Read the default display settings.\n",
    "ds = DisplaySettingsIO.readUserDefault()\n",
    "\n",
    "# The viewer.\n",
    "displayer =  HyperStackDisplayer( model, sm, imp, ds ) \n",
    "#displayer.render()\n",
    "\n",
    "# The feature model, that stores edge and track features.\n",
    "fm = model.getFeatureModel()"
   ]
  },
  {
   "cell_type": "code",
   "execution_count": 81,
   "metadata": {},
   "outputs": [
    {
     "name": "stdout",
     "output_type": "stream",
     "text": [
      "\n"
     ]
    },
    {
     "name": "stderr",
     "output_type": "stream",
     "text": [
      "[java.lang.Enum.toString] \n"
     ]
    },
    {
     "ename": "TypeError",
     "evalue": "can only concatenate str (not \"java.lang.String\") to str",
     "output_type": "error",
     "traceback": [
      "\u001b[0;31m---------------------------------------------------------------------------\u001b[0m",
      "\u001b[0;31mTypeError\u001b[0m                                 Traceback (most recent call last)",
      "Cell \u001b[0;32mIn[81], line 7\u001b[0m\n\u001b[1;32m      5\u001b[0m     v \u001b[39m=\u001b[39m fm\u001b[39m.\u001b[39mgetTrackFeature(\u001b[39mid\u001b[39m, \u001b[39m'\u001b[39m\u001b[39mTRACK_MEAN_SPEED\u001b[39m\u001b[39m'\u001b[39m)\n\u001b[1;32m      6\u001b[0m     model\u001b[39m.\u001b[39mgetLogger()\u001b[39m.\u001b[39mlog(\u001b[39m'\u001b[39m\u001b[39m'\u001b[39m)\n\u001b[0;32m----> 7\u001b[0m     model\u001b[39m.\u001b[39mgetLogger()\u001b[39m.\u001b[39mlog(\u001b[39m'\u001b[39;49m\u001b[39mTrack \u001b[39;49m\u001b[39m'\u001b[39;49m \u001b[39m+\u001b[39;49m \u001b[39mstr\u001b[39;49m(\u001b[39mid\u001b[39;49m) \u001b[39m+\u001b[39;49m \u001b[39m'\u001b[39;49m\u001b[39m: mean velocity = \u001b[39;49m\u001b[39m'\u001b[39;49m \u001b[39m+\u001b[39;49m \u001b[39mstr\u001b[39;49m(v) \u001b[39m+\u001b[39;49m \u001b[39m'\u001b[39;49m\u001b[39m \u001b[39;49m\u001b[39m'\u001b[39;49m \u001b[39m+\u001b[39;49m model\u001b[39m.\u001b[39;49mgetSpaceUnits() \u001b[39m+\u001b[39m \u001b[39m'\u001b[39m\u001b[39m/\u001b[39m\u001b[39m'\u001b[39m \u001b[39m+\u001b[39m model\u001b[39m.\u001b[39mgetTimeUnits())\n\u001b[1;32m      9\u001b[0m \t\u001b[39m# Get all the spots of the current track.\u001b[39;00m\n\u001b[1;32m     10\u001b[0m     track \u001b[39m=\u001b[39m model\u001b[39m.\u001b[39mgetTrackModel()\u001b[39m.\u001b[39mtrackSpots(\u001b[39mid\u001b[39m)\n",
      "\u001b[0;31mTypeError\u001b[0m: can only concatenate str (not \"java.lang.String\") to str"
     ]
    }
   ],
   "source": [
    "# Iterate over all the tracks that are visible.\n",
    "for id in model.getTrackModel().trackIDs(True):\n",
    "\n",
    "    # Fetch the track feature from the feature model.\n",
    "    v = fm.getTrackFeature(id, 'TRACK_MEAN_SPEED')\n",
    "    model.getLogger().log('')\n",
    "    model.getLogger().log('Track ' + str(id) + ': mean velocity = ' + str(v) + ' ' + model.getSpaceUnits() + '/' + model.getTimeUnits())\n",
    "\n",
    "\t# Get all the spots of the current track.\n",
    "    track = model.getTrackModel().trackSpots(id)\n",
    "    for spot in track:\n",
    "        sid = spot.ID()\n",
    "        # Fetch spot features directly from spot.\n",
    "        # Note that for spots the feature values are not stored in the FeatureModel\n",
    "        # object, but in the Spot object directly. This is an exception; for tracks\n",
    "        # and edges, you have to query the feature model.\n",
    "        x=spot.getFeature('POSITION_X')\n",
    "        y=spot.getFeature('POSITION_Y')\n",
    "        t=spot.getFeature('FRAME')\n",
    "        q=spot.getFeature('QUALITY')\n",
    "        snr=spot.getFeature('SNR_CH1')\n",
    "        mean=spot.getFeature('MEAN_INTENSITY_CH1')\n",
    "        model.getLogger().log('\\tspot ID = ' + str(sid) + ': x='+str(x)+', y='+str(y)+', t='+str(t)+', q='+str(q) + ', snr='+str(snr) + ', mean = ' + str(mean))"
   ]
  },
  {
   "cell_type": "code",
   "execution_count": 145,
   "metadata": {},
   "outputs": [
    {
     "data": {
      "text/plain": [
       "<java object 'fiji.plugin.trackmate.FeatureModel'>"
      ]
     },
     "execution_count": 145,
     "metadata": {},
     "output_type": "execute_result"
    }
   ],
   "source": [
    "fm"
   ]
  },
  {
   "cell_type": "code",
   "execution_count": null,
   "metadata": {},
   "outputs": [],
   "source": []
  }
 ],
 "metadata": {
  "kernelspec": {
   "display_name": "i2k-2022-pyimagej",
   "language": "python",
   "name": "python3"
  },
  "language_info": {
   "codemirror_mode": {
    "name": "ipython",
    "version": 3
   },
   "file_extension": ".py",
   "mimetype": "text/x-python",
   "name": "python",
   "nbconvert_exporter": "python",
   "pygments_lexer": "ipython3",
   "version": "3.8.13"
  },
  "orig_nbformat": 4,
  "vscode": {
   "interpreter": {
    "hash": "8a5edab282632443219e051e4ade2d1d5bbc671c781051bf1437897cbdfea0f1"
   }
  }
 },
 "nbformat": 4,
 "nbformat_minor": 2
}
